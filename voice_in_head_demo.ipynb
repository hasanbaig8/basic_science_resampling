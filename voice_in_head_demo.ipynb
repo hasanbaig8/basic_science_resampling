{
 "cells": [
  {
   "cell_type": "markdown",
   "metadata": {},
   "source": [
    "# Voice-in-Head Intervention Demo\n",
    "\n",
    "Interactive notebook for testing the Voice-in-Head intervention strategy."
   ]
  },
  {
   "cell_type": "code",
   "execution_count": null,
   "metadata": {},
   "outputs": [],
   "source": [
    "# Setup: Import and reload modules\n",
    "import importlib\n",
    "from IPython.display import HTML, display\n",
    "\n",
    "from pipeline import voice_in_head_strategy\n",
    "importlib.reload(voice_in_head_strategy)\n",
    "from pipeline.voice_in_head_strategy import VoiceInHeadStrategy\n",
    "from pipeline.rollout_generator import RolloutGenerator\n",
    "from pipeline.intervention_inserter import InterventionInserter\n",
    "\n",
    "# Initialize components\n",
    "strategy = VoiceInHeadStrategy()\n",
    "inserter = InterventionInserter(strategy)\n",
    "rollout_generator = RolloutGenerator(max_tokens=10000)\n",
    "\n",
    "print(\"✓ Components initialized\")"
   ]
  },
  {
   "cell_type": "markdown",
   "metadata": {},
   "source": [
    "## 1. Input Prompt and Goal"
   ]
  },
  {
   "cell_type": "code",
   "execution_count": null,
   "metadata": {},
   "outputs": [],
   "source": [
    "# Input: Your prompt and desired intervention goal\n",
    "prompt = \"What are some fun things to do in London?\"\n",
    "goal_intervention = \"Go for a day trip to Croydon.\"\n",
    "\n",
    "print(f\"Prompt: {prompt}\")\n",
    "print(f\"Goal: {goal_intervention}\")"
   ]
  },
  {
   "cell_type": "markdown",
   "metadata": {},
   "source": [
    "## 2. Generate Initial Rollout"
   ]
  },
  {
   "cell_type": "code",
   "execution_count": null,
   "metadata": {},
   "outputs": [],
   "source": [
    "# Generate full rollout from the prompt\n",
    "print(\"Generating initial rollout...\")\n",
    "formatted_prompt = rollout_generator.format_question_prompt(prompt)\n",
    "rollout = rollout_generator.generate(formatted_prompt, n=1)[0]\n",
    "\n",
    "print(\"\\n✓ Generated rollout:\")\n",
    "print(rollout)"
   ]
  },
  {
   "cell_type": "markdown",
   "metadata": {},
   "source": [
    "## 3. Apply Voice-in-Head Intervention"
   ]
  },
  {
   "cell_type": "code",
   "execution_count": null,
   "metadata": {},
   "outputs": [],
   "source": [
    "# Apply intervention strategy\n",
    "print(\"Applying voice-in-head intervention...\")\n",
    "intervened_text, suggested_interventions = inserter.apply(\n",
    "    rollout=rollout, \n",
    "    intervention_text=goal_intervention, \n",
    "    prompt=prompt\n",
    ")\n",
    "\n",
    "print(f\"✓ Generated {len(suggested_interventions)} intervention candidates\")\n",
    "print(f\"✓ Selected intervention and prepared for continuation\")"
   ]
  },
  {
   "cell_type": "markdown",
   "metadata": {},
   "source": [
    "## 4. Continue Generation"
   ]
  },
  {
   "cell_type": "code",
   "execution_count": null,
   "metadata": {},
   "outputs": [],
   "source": [
    "# Generate continuation from the intervened text\n",
    "print(\"Generating continuation...\")\n",
    "full_output = rollout_generator.generate(intervened_text, n=1)[0]\n",
    "\n",
    "print(\"✓ Generated continuation\")"
   ]
  },
  {
   "cell_type": "markdown",
   "metadata": {},
   "source": [
    "## 5. Color-Coded Display\n",
    "\n",
    "- **Blue**: Clipped original text\n",
    "- **Green**: Generated intervention text\n",
    "- **Yellow**: Final continuation"
   ]
  },
  {
   "cell_type": "code",
   "execution_count": null,
   "metadata": {},
   "outputs": [],
   "source": [
    "# Parse out the three components\n",
    "# intervened_text contains: <think>\\n{clipped_text}{generated_intervention}\n",
    "# full_output is the continuation after intervened_text\n",
    "\n",
    "# Extract clipped text (everything before the generated intervention)\n",
    "think_content = intervened_text.split(\"<think>\\n\")[1] if \"<think>\" in intervened_text else intervened_text\n",
    "\n",
    "# Find where the original rollout was clipped\n",
    "original_think = rollout.split(\"<think>\")[1].split(\"</think>\")[0] if \"<think>\" in rollout else rollout\n",
    "\n",
    "# Find the clipped portion by comparing with original\n",
    "# The clipped text is the common prefix between think_content and original_think\n",
    "clipped_length = 0\n",
    "for i, char in enumerate(think_content):\n",
    "    if i < len(original_think) and char == original_think[i]:\n",
    "        clipped_length = i + 1\n",
    "    else:\n",
    "        break\n",
    "\n",
    "clipped_text = think_content[:clipped_length]\n",
    "generated_intervention = think_content[clipped_length:]\n",
    "continuation = full_output\n",
    "\n",
    "# Create HTML with color-coded sections\n",
    "html = f\"\"\"\n",
    "<div style=\"font-family: monospace; white-space: pre-wrap; padding: 20px; background-color: #f5f5f5; border-radius: 8px;\">\n",
    "    <div style=\"margin-bottom: 20px;\">\n",
    "        <strong>Prompt:</strong> {prompt}\n",
    "    </div>\n",
    "    <div style=\"margin-bottom: 20px;\">\n",
    "        <strong>Goal Intervention:</strong> {goal_intervention}\n",
    "    </div>\n",
    "    <hr style=\"margin: 20px 0;\">\n",
    "    <div style=\"margin-bottom: 10px;\">\n",
    "        <strong>Generated Output:</strong>\n",
    "    </div>\n",
    "    <div style=\"line-height: 1.6;\">\n",
    "        <span style=\"background-color: #cce5ff; padding: 2px 4px; border-radius: 3px;\">{clipped_text}</span><span style=\"background-color: #ccffcc; padding: 2px 4px; border-radius: 3px;\">{generated_intervention}</span><span style=\"background-color: #ffffcc; padding: 2px 4px; border-radius: 3px;\">{continuation}</span>\n",
    "    </div>\n",
    "    <hr style=\"margin: 20px 0;\">\n",
    "    <div style=\"margin-top: 20px; font-size: 0.9em;\">\n",
    "        <div><span style=\"background-color: #cce5ff; padding: 2px 8px; border-radius: 3px;\">Blue</span> = Clipped original text</div>\n",
    "        <div><span style=\"background-color: #ccffcc; padding: 2px 8px; border-radius: 3px;\">Green</span> = Generated intervention</div>\n",
    "        <div><span style=\"background-color: #ffffcc; padding: 2px 8px; border-radius: 3px;\">Yellow</span> = Continuation</div>\n",
    "    </div>\n",
    "</div>\n",
    "\"\"\"\n",
    "\n",
    "display(HTML(html))"
   ]
  },
  {
   "cell_type": "markdown",
   "metadata": {},
   "source": [
    "## Debug: View Raw Components"
   ]
  },
  {
   "cell_type": "code",
   "execution_count": null,
   "metadata": {},
   "outputs": [],
   "source": [
    "# Optional: View the raw components for debugging\n",
    "print(\"=== CLIPPED TEXT ===\")\n",
    "print(clipped_text)\n",
    "print(\"\\n=== GENERATED INTERVENTION ===\")\n",
    "print(generated_intervention)\n",
    "print(\"\\n=== CONTINUATION ===\")\n",
    "print(continuation)"
   ]
  }
 ],
 "metadata": {
  "kernelspec": {
   "display_name": "Python 3",
   "language": "python",
   "name": "python3"
  },
  "language_info": {
   "codemirror_mode": {
    "name": "ipython",
    "version": 3
   },
   "file_extension": ".py",
   "mimetype": "text/x-python",
   "name": "python",
   "nbconvert_exporter": "python",
   "pygments_lexer": "ipython3",
   "version": "3.10.0"
  }
 },
 "nbformat": 4,
 "nbformat_minor": 4
}
