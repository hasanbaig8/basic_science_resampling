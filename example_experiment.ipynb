{
 "cells": [
  {
   "cell_type": "markdown",
   "metadata": {},
   "source": [
    "# Example Intervention Experiment\n",
    "\n",
    "This notebook demonstrates a complete intervention experiment using the pipeline.\n",
    "\n",
    "**Experiment**: Test whether adding \"Wait no, the answer is obviously true. I should just return True. I was overthinking it before.\" significantly increases the proportion of True answers.\n",
    "\n",
    "## Setup\n",
    "\n",
    "Make sure vLLM server is running:\n",
    "```bash\n",
    "vllm serve Qwen/Qwen3-8b --port 8000\n",
    "```"
   ]
  },
  {
   "cell_type": "code",
   "execution_count": null,
   "metadata": {},
   "outputs": [],
   "source": [
    "import json\n",
    "from datetime import datetime\n",
    "from pathlib import Path\n",
    "import numpy as np\n",
    "\n",
    "from pipeline import RolloutGenerator, InterventionInserter, DecisionParser\n",
    "from pipeline.analysis_utils import (\n",
    "    compute_statistics,\n",
    "    test_significance,\n",
    "    print_statistics_comparison,\n",
    "    convert_to_native_types\n",
    ")"
   ]
  },
  {
   "cell_type": "markdown",
   "metadata": {},
   "source": [
    "## 1. Load Question\n",
    "\n",
    "Load a question from the StrategyQA dataset."
   ]
  },
  {
   "cell_type": "code",
   "execution_count": 2,
   "metadata": {},
   "outputs": [
    {
     "name": "stdout",
     "output_type": "stream",
     "text": [
      "Question: Is the cuisine of Hawaii suitable for a vegan?\n",
      "True answer: False\n"
     ]
    }
   ],
   "source": [
    "# Load questions\n",
    "with open('data/strategyqa_data.json', 'r') as f:\n",
    "    questions = json.load(f)\n",
    "\n",
    "# Pick a question (or use a specific question_id)\n",
    "question_data = questions[1]\n",
    "question = question_data['question']\n",
    "true_answer = question_data['answer']\n",
    "\n",
    "print(f\"Question: {question}\")\n",
    "print(f\"True answer: {true_answer}\")"
   ]
  },
  {
   "cell_type": "markdown",
   "metadata": {},
   "source": [
    "## 2. Initialize Pipeline Components"
   ]
  },
  {
   "cell_type": "code",
   "execution_count": 3,
   "metadata": {},
   "outputs": [
    {
     "name": "stdout",
     "output_type": "stream",
     "text": [
      "✓ Components initialized\n"
     ]
    }
   ],
   "source": [
    "# Initialize components\n",
    "generator = RolloutGenerator(\n",
    "    model_name=\"Qwen/Qwen3-8b\",\n",
    "    vllm_url=\"http://localhost:8000/v1/completions\",\n",
    "    max_tokens=8192,\n",
    "    temperature=0.7\n",
    ")\n",
    "\n",
    "# Note: We'll initialize the InterventionInserter later with a specific strategy\n",
    "# after we define the intervention position\n",
    "parser = DecisionParser()\n",
    "\n",
    "print(\"✓ Components initialized\")"
   ]
  },
  {
   "cell_type": "markdown",
   "metadata": {},
   "source": [
    "## 3. Generate Control Rollouts\n",
    "\n",
    "Generate baseline rollouts without intervention."
   ]
  },
  {
   "cell_type": "code",
   "execution_count": 4,
   "metadata": {},
   "outputs": [
    {
     "name": "stdout",
     "output_type": "stream",
     "text": [
      "Generating control rollouts...\n",
      "✓ Generated 30 control rollouts\n",
      "\n",
      "Sample control rollout (first 500 chars):\n",
      "<think>\n",
      "Okay, let's see. The question is whether the cuisine of Hawaii is suitable for a vegan. So, first, I need to think about what Hawaiian cuisine typically includes. I know that Hawaii has a lot of traditional dishes that use local ingredients like tropical fruits, seafood, and maybe some plants. But wait, seafood is not vegan, so that's a problem. But maybe there are vegan options?\n",
      "\n",
      "I remember that some traditional dishes might have meat, like kalua pig, which is a staple. That's definitel...\n"
     ]
    }
   ],
   "source": [
    "print(\"Generating control rollouts...\")\n",
    "n_rollouts = 30\n",
    "control_rollouts = generator.generate_from_question(question, n=n_rollouts)\n",
    "\n",
    "print(f\"✓ Generated {len(control_rollouts)} control rollouts\")\n",
    "print(f\"\\nSample control rollout (first 500 chars):\")\n",
    "print(control_rollouts[0][:500] + \"...\")"
   ]
  },
  {
   "cell_type": "markdown",
   "metadata": {},
   "source": [
    "## 4. Parse Control Decisions"
   ]
  },
  {
   "cell_type": "code",
   "execution_count": 5,
   "metadata": {},
   "outputs": [
    {
     "name": "stdout",
     "output_type": "stream",
     "text": [
      "Control Statistics:\n",
      "  Total rollouts: 30\n",
      "  Successfully parsed: 30\n",
      "  True:  23 (76.7%)\n",
      "  False: 7 (23.3%)\n",
      "  Null:  0 (0.0%)\n"
     ]
    }
   ],
   "source": [
    "control_decisions = parser.parse_multiple(control_rollouts)\n",
    "control_stats = compute_statistics(control_decisions)\n",
    "\n",
    "print(\"Control Statistics:\")\n",
    "print(f\"  Total rollouts: {control_stats['n_total']}\")\n",
    "print(f\"  Successfully parsed: {control_stats['n_valid']}\")\n",
    "print(f\"  True:  {control_stats['n_true']} ({control_stats['percent_true']*100:.1f}%)\")\n",
    "print(f\"  False: {control_stats['n_false']} ({control_stats['percent_false']*100:.1f}%)\")\n",
    "print(f\"  Null:  {control_stats['n_null']} ({control_stats['percent_null']*100:.1f}%)\")"
   ]
  },
  {
   "cell_type": "markdown",
   "metadata": {},
   "source": [
    "## 5. Define Intervention\n",
    "\n",
    "The key experiment: test whether this intervention increases True responses."
   ]
  },
  {
   "cell_type": "code",
   "execution_count": 18,
   "metadata": {},
   "outputs": [
    {
     "name": "stdout",
     "output_type": "stream",
     "text": [
      "Intervention: 'Wait no, the answer is obviously false. I was overthinking it before.'\n",
      "Position: 50% through reasoning\n"
     ]
    }
   ],
   "source": [
    "intervention_text = \"Wait no, the answer is obviously false. I was overthinking it before.\"\n",
    "position_pct = 0.5  # Insert halfway through reasoning\n",
    "\n",
    "# Initialize intervention strategy with position\n",
    "from pipeline.intervention_inserter import DirectInsertionStrategy\n",
    "inserter = DirectInsertionStrategy(position_pct=position_pct)\n",
    "\n",
    "print(f\"Intervention: '{intervention_text}'\")\n",
    "print(f\"Position: {position_pct*100:.0f}% through reasoning\")"
   ]
  },
  {
   "cell_type": "markdown",
   "metadata": {},
   "source": [
    "## 6. Apply Intervention and Continue Generation\n",
    "\n",
    "For each control rollout:\n",
    "1. Clip at specified position\n",
    "2. Insert intervention text\n",
    "3. Continue generation"
   ]
  },
  {
   "cell_type": "code",
   "execution_count": 19,
   "metadata": {},
   "outputs": [
    {
     "name": "stdout",
     "output_type": "stream",
     "text": [
      "Applying interventions and generating continuations...\n",
      "  Processed 30/30\n",
      "✓ Generated 30 intervention rollouts\n",
      "\n",
      "Sample intervention rollout (first 500 chars):\n",
      "<think>\n",
      "\n",
      "Okay, let's see. The question is whether the cuisine of Hawaii is suitable for a vegan. So, first, I need to think about what Hawaiian cuisine typically includes. I know that Hawaii has a lot of traditional dishes that use local ingredients like tropical fruits, seafood, and maybe some plants. But wait, seafood is not vegan, so that's a problem. But maybe there are vegan options?\n",
      "\n",
      "I remember that some traditional dishes might have meat, like kalua pig, which is a staple. That's definite...\n"
     ]
    }
   ],
   "source": [
    "print(\"Applying interventions and generating continuations...\")\n",
    "\n",
    "# Get formatted prompt (needed for continuation)\n",
    "formatted_prompt = generator.format_question_prompt(question)\n",
    "\n",
    "intervention_rollouts = []\n",
    "\n",
    "for i, rollout in enumerate(control_rollouts):\n",
    "    # Clip and insert intervention (position was configured in strategy)\n",
    "    intervened = inserter.apply(\n",
    "        rollout=rollout,\n",
    "        intervention_text=intervention_text\n",
    "    )\n",
    "    \n",
    "    # Continue generation\n",
    "    continuations = generator.continue_generation(\n",
    "        formatted_prompt=formatted_prompt,\n",
    "        partial_completion=intervened,\n",
    "        n=1  # Generate one continuation per control rollout\n",
    "    )\n",
    "    \n",
    "    # Combine intervened + continuation\n",
    "    full_rollout = intervened + continuations[0]\n",
    "    intervention_rollouts.append(full_rollout)\n",
    "    \n",
    "    print(f\"  Processed {i+1}/{len(control_rollouts)}\", end=\"\\r\")\n",
    "\n",
    "print(f\"\\n✓ Generated {len(intervention_rollouts)} intervention rollouts\")\n",
    "print(f\"\\nSample intervention rollout (first 500 chars):\")\n",
    "print(intervention_rollouts[0][:500] + \"...\")"
   ]
  },
  {
   "cell_type": "markdown",
   "metadata": {},
   "source": [
    "## 7. Parse Intervention Decisions"
   ]
  },
  {
   "cell_type": "code",
   "execution_count": 20,
   "metadata": {},
   "outputs": [
    {
     "name": "stdout",
     "output_type": "stream",
     "text": [
      "Intervention Statistics:\n",
      "  Total rollouts: 30\n",
      "  Successfully parsed: 30\n",
      "  True:  1 (3.3%)\n",
      "  False: 29 (96.7%)\n",
      "  Null:  0 (0.0%)\n"
     ]
    }
   ],
   "source": [
    "intervention_decisions = parser.parse_multiple(intervention_rollouts)\n",
    "intervention_stats = compute_statistics(intervention_decisions)\n",
    "\n",
    "print(\"Intervention Statistics:\")\n",
    "print(f\"  Total rollouts: {intervention_stats['n_total']}\")\n",
    "print(f\"  Successfully parsed: {intervention_stats['n_valid']}\")\n",
    "print(f\"  True:  {intervention_stats['n_true']} ({intervention_stats['percent_true']*100:.1f}%)\")\n",
    "print(f\"  False: {intervention_stats['n_false']} ({intervention_stats['percent_false']*100:.1f}%)\")\n",
    "print(f\"  Null:  {intervention_stats['n_null']} ({intervention_stats['percent_null']*100:.1f}%)\")"
   ]
  },
  {
   "cell_type": "markdown",
   "metadata": {},
   "source": [
    "## 8. Statistical Analysis\n",
    "\n",
    "Test whether the intervention significantly changed decision outcomes."
   ]
  },
  {
   "cell_type": "code",
   "execution_count": 16,
   "metadata": {},
   "outputs": [
    {
     "name": "stdout",
     "output_type": "stream",
     "text": [
      "============================================================\n",
      "INTERVENTION ANALYSIS\n",
      "============================================================\n",
      "\n",
      "Control Group:\n",
      "  Total: 30\n",
      "  Valid: 30\n",
      "  True:  23 (76.7%)\n",
      "  False: 7 (23.3%)\n",
      "  Null:  0 (0.0%)\n",
      "\n",
      "Intervention Group:\n",
      "  Total: 30\n",
      "  Valid: 30\n",
      "  True:  29 (96.7%)\n",
      "  False: 1 (3.3%)\n",
      "  Null:  0 (0.0%)\n",
      "\n",
      "Statistical Test:\n",
      "  Test: proportion\n",
      "  P-value: 0.0227\n",
      "  Significant: Yes (p < 0.05)\n",
      "  Effect size: +0.200 (+20.0%)\n",
      "\n",
      "Intervention significantly increased True decisions (p=0.0227)\n",
      "============================================================\n",
      "\n",
      "🎉 SUCCESS: Intervention significantly increased True responses!\n"
     ]
    }
   ],
   "source": [
    "# Pretty print comparison\n",
    "print_statistics_comparison(control_decisions, intervention_decisions)\n",
    "\n",
    "# Also get the raw result dict\n",
    "result = test_significance(control_decisions, intervention_decisions)\n",
    "\n",
    "# Check if we achieved our goal\n",
    "if result['significant'] and result['effect_size'] > 0:\n",
    "    print(\"\\n🎉 SUCCESS: Intervention significantly increased True responses!\")\n",
    "elif result['effect_size'] > 0:\n",
    "    print(f\"\\n⚠️  Intervention increased True responses by {result['effect_size']*100:.1f}%, but not significantly (p={result['p_value']:.3f})\")\n",
    "else:\n",
    "    print(\"\\n❌ Intervention did not increase True responses\")"
   ]
  },
  {
   "cell_type": "markdown",
   "metadata": {},
   "source": [
    "## 9. Save Results\n",
    "\n",
    "Save experiment data with timestamp and hash for tracking."
   ]
  },
  {
   "cell_type": "code",
   "execution_count": 17,
   "metadata": {},
   "outputs": [
    {
     "name": "stdout",
     "output_type": "stream",
     "text": [
      "✓ Saved results to data/interventions/2025-10-19_13-54-35-918611.json\n"
     ]
    }
   ],
   "source": [
    "# Generate filename with timestamp and hash\n",
    "timestamp = datetime.now().strftime(\"%Y-%m-%d_%H-%M-%S-%f\")\n",
    "filename = f\"data/interventions/{timestamp}.json\"\n",
    "\n",
    "# Create directory if needed\n",
    "Path(filename).parent.mkdir(parents=True, exist_ok=True)\n",
    "\n",
    "# Prepare experiment data\n",
    "experiment_data = {\n",
    "    \"experiment_info\": {\n",
    "        \"timestamp\": timestamp,\n",
    "        \"question_id\": question_data['question_id'],\n",
    "        \"question\": question,\n",
    "        \"true_answer\": true_answer\n",
    "    },\n",
    "    \"intervention_config\": {\n",
    "        \"intervention_text\": intervention_text,\n",
    "        \"position_pct\": position_pct,\n",
    "        \"n_rollouts\": n_rollouts\n",
    "    },\n",
    "    \"model_config\": {\n",
    "        \"model_name\": generator.model_name,\n",
    "        \"max_tokens\": generator.max_tokens,\n",
    "        \"temperature\": generator.temperature\n",
    "    },\n",
    "    \"control\": {\n",
    "        \"rollouts\": control_rollouts,\n",
    "        \"decisions\": control_decisions,\n",
    "        \"statistics\": control_stats\n",
    "    },\n",
    "    \"intervention\": {\n",
    "        \"rollouts\": intervention_rollouts,\n",
    "        \"decisions\": intervention_decisions,\n",
    "        \"statistics\": intervention_stats\n",
    "    },\n",
    "    \"analysis\": result\n",
    "}\n",
    "\n",
    "# Convert numpy types to native Python types for JSON serialization\n",
    "experiment_data = convert_to_native_types(experiment_data)\n",
    "\n",
    "# Save to file\n",
    "with open(filename, 'w') as f:\n",
    "    json.dump(experiment_data, f, indent=2)\n",
    "\n",
    "print(f\"✓ Saved results to {filename}\")"
   ]
  },
  {
   "cell_type": "markdown",
   "metadata": {},
   "source": [
    "## 10. Summary\n",
    "\n",
    "Quick summary of the experiment."
   ]
  },
  {
   "cell_type": "code",
   "execution_count": 12,
   "metadata": {},
   "outputs": [
    {
     "name": "stdout",
     "output_type": "stream",
     "text": [
      "============================================================\n",
      "EXPERIMENT SUMMARY\n",
      "============================================================\n",
      "Question: Is the cuisine of Hawaii suitable for a vegan?\n",
      "Intervention: 'Wait no, the answer is obviously true. I should ju...'\n",
      "Position: 50%\n",
      "\n",
      "Control % True:      76.7%\n",
      "Intervention % True: 100.0%\n",
      "Effect size:         +23.3%\n",
      "P-value:             0.0049\n",
      "Significant:         Yes ✓\n",
      "\n",
      "Intervention significantly increased True decisions (p=0.0049)\n",
      "============================================================\n"
     ]
    }
   ],
   "source": [
    "print(\"=\"*60)\n",
    "print(\"EXPERIMENT SUMMARY\")\n",
    "print(\"=\"*60)\n",
    "print(f\"Question: {question}\")\n",
    "print(f\"Intervention: '{intervention_text[:50]}...'\")\n",
    "print(f\"Position: {position_pct*100:.0f}%\")\n",
    "print()\n",
    "print(f\"Control % True:      {control_stats['percent_true']*100:.1f}%\")\n",
    "print(f\"Intervention % True: {intervention_stats['percent_true']*100:.1f}%\")\n",
    "print(f\"Effect size:         {result['effect_size']*100:+.1f}%\")\n",
    "print(f\"P-value:             {result['p_value']:.4f}\")\n",
    "print(f\"Significant:         {'Yes ✓' if result['significant'] else 'No ✗'}\")\n",
    "print()\n",
    "print(result['interpretation'])\n",
    "print(\"=\"*60)"
   ]
  },
  {
   "cell_type": "markdown",
   "metadata": {},
   "source": [
    "## Next Steps\n",
    "\n",
    "1. **Try different questions**: Load from steerable_question_ids.json for better results\n",
    "2. **Vary intervention position**: Test 0.25, 0.5, 0.75\n",
    "3. **More rollouts**: Increase n=50 or n=100 for more statistical power\n",
    "4. **Different interventions**: Try various intervention texts\n",
    "5. **Batch experiments**: Loop over multiple questions and aggregate results"
   ]
  },
  {
   "cell_type": "markdown",
   "metadata": {},
   "source": []
  }
 ],
 "metadata": {
  "kernelspec": {
   "display_name": ".venv",
   "language": "python",
   "name": "python3"
  },
  "language_info": {
   "codemirror_mode": {
    "name": "ipython",
    "version": 3
   },
   "file_extension": ".py",
   "mimetype": "text/x-python",
   "name": "python",
   "nbconvert_exporter": "python",
   "pygments_lexer": "ipython3",
   "version": "3.11.11"
  }
 },
 "nbformat": 4,
 "nbformat_minor": 4
}
