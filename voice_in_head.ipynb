{
 "cells": [
  {
   "cell_type": "code",
   "execution_count": 106,
   "id": "0704b234",
   "metadata": {},
   "outputs": [],
   "source": [
    "import importlib\n",
    "from pipeline import voice_in_head_strategy\n",
    "importlib.reload(voice_in_head_strategy)\n",
    "from pipeline.voice_in_head_strategy import VoiceInHeadStrategy\n",
    "\n",
    "from pipeline.rollout_generator import RolloutGenerator\n",
    "\n",
    "from pipeline.intervention_inserter import InterventionInserter\n",
    "\n",
    "strategy = VoiceInHeadStrategy()\n",
    "inserter = InterventionInserter(strategy)\n",
    "rollout_generator = RolloutGenerator(max_tokens = 10000)\n",
    "prompt = \"What are some fun things to do in London?\"\n",
    "rollout = \"<think> Okay, so I need to come up with some fun things to do in London. Let me think... I know London is a big city with lots of attractions. First, I remember the British Museum is a must-see. It has so many artifacts from around the world. Then there's the Tower of London, which is a historic site with the Crown Jewels. Wait, is that right? Yeah, the Tower of London is famous for the Crown Jewels and the Tower Bridge nearby. Oh, and the London Dungeons is a fun and spooky attraction where you can experience the darker side of London's history with interactive exhibits and spooky tours. It's a great option for those looking for a bit of thrills and chills. Don't forget to check out the London Eye for panoramic views of the city from high above the Thames.</think>\"\n",
    "\n",
    "goal_intervention = \"Go for a day trip to Croydon.\"\n",
    "\n",
    "intervened_text, suggested_interventions = inserter.apply(rollout=rollout, intervention_text=goal_intervention, prompt=prompt)\n",
    "continued_output = rollout_generator.generate(intervened_text, 1)[0]\n",
    "display(continued_output)"
   ]
  }
 ],
 "metadata": {
  "kernelspec": {
   "display_name": ".venv",
   "language": "python",
   "name": "python3"
  },
  "language_info": {
   "codemirror_mode": {
    "name": "ipython",
    "version": 3
   },
   "file_extension": ".py",
   "mimetype": "text/x-python",
   "name": "python",
   "nbconvert_exporter": "python",
   "pygments_lexer": "ipython3",
   "version": "3.11.11"
  }
 },
 "nbformat": 4,
 "nbformat_minor": 5
}
