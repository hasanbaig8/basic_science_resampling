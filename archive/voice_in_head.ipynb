{
 "cells": [
  {
   "cell_type": "code",
   "execution_count": 106,
   "id": "0704b234",
   "metadata": {},
   "outputs": [],
   "source": [
    "import importlib\n",
    "from pipeline import voice_in_head_strategy\n",
    "importlib.reload(voice_in_head_strategy)\n",
    "from pipeline.voice_in_head_strategy import VoiceInHeadStrategy\n",
    "\n",
    "from pipeline.rollout_generator import RolloutGenerator\n",
    "\n",
    "from pipeline.intervention_inserter import InterventionInserter\n",
    "\n",
    "strategy = VoiceInHeadStrategy()\n",
    "inserter = InterventionInserter(strategy)\n",
    "rollout_generator = RolloutGenerator(max_tokens = 10000)\n",
    "prompt = \"What are some fun things to do in London?\"\n",
    "rollout = \"<think> Okay, so I need to come up with some fun things to do in London. Let me think... I know London is a big city with lots of attractions. First, I remember the British Museum is a must-see. It has so many artifacts from around the world. Then there's the Tower of London, which is a historic site with the Crown Jewels. Wait, is that right? Yeah, the Tower of London is famous for the Crown Jewels and the Tower Bridge nearby. Oh, and the London Dungeons is a fun and spooky attraction where you can experience the darker side of London's history with interactive exhibits and spooky tours. It's a great option for those looking for a bit of thrills and chills. Don't forget to check out the London Eye for panoramic views of the city from high above the Thames.</think>\"\n",
    "\n",
    "goal_intervention = \"Go for a day trip to Croydon.\"\n",
    "\n",
    "intervened_text, suggested_interventions = inserter.apply(rollout=rollout, intervention_text=goal_intervention, prompt=prompt)\n",
    "continued_output = rollout_generator.generate(intervened_text, 1)[0]\n",
    "display(continued_output)"
   ]
  },
  {
   "cell_type": "markdown",
   "id": "5ff90dd4",
   "metadata": {},
   "source": [
    "# Sentence embeddings"
   ]
  },
  {
   "cell_type": "code",
   "execution_count": 14,
   "id": "99ba2081",
   "metadata": {},
   "outputs": [
    {
     "name": "stdout",
     "output_type": "stream",
     "text": [
      "Similarity between texts: 0.1240\n"
     ]
    }
   ],
   "source": [
    "from sentence_transformers import SentenceTransformer\n",
    "import numpy as np\n",
    "\n",
    "def compute_similarity(text1: str, text2: str) -> float:\n",
    "    \"\"\"\n",
    "    Compute cosine similarity between two texts using sentence embeddings.\n",
    "    \n",
    "    Args:\n",
    "        text1: First text to compare\n",
    "        text2: Second text to compare\n",
    "        \n",
    "    Returns:\n",
    "        Cosine similarity score between 0 and 1\n",
    "    \"\"\"\n",
    "    # Initialize the sentence embedding model\n",
    "    model = SentenceTransformer('sentence-transformers/all-MiniLM-L6-v2')\n",
    "    \n",
    "    # Get embeddings for both texts\n",
    "    embeddings = model.encode([text1, text2])\n",
    "    \n",
    "    # Compute cosine similarity\n",
    "    similarity = np.dot(embeddings[0], embeddings[1]) / (\n",
    "        np.linalg.norm(embeddings[0]) * np.linalg.norm(embeddings[1])\n",
    "    )\n",
    "    \n",
    "    return float(similarity)\n",
    "\n",
    "# Example usage\n",
    "text1 = \"Use a python script to solve this\"\n",
    "text2 = \"\"\"squared is 4,000,000. So, the square root of 1,434,234 must be between 1000 and 2000. Let me narrow it down further. Let's try 1200 squared: 1,440,000. Oh, that's pretty close. So, 1200 squared is 1,440,000, which\"\"\"\n",
    "similarity_score = compute_similarity(text1, text2)\n",
    "print(f\"Similarity between texts: {similarity_score:.4f}\")\n"
   ]
  },
  {
   "cell_type": "code",
   "execution_count": 15,
   "id": "5c66ea8e",
   "metadata": {},
   "outputs": [
    {
     "data": {
      "text/plain": [
       "0.15942536294460297"
      ]
     },
     "execution_count": 15,
     "metadata": {},
     "output_type": "execute_result"
    }
   ],
   "source": [
    "text3 = \"\"\" squared is 4,000,000. Wait, 1434234 is between those two, so the square root must be between 1000 and 2000. Let me narrow it down more. Maybe I can use a calculator or a more systematic approach. Alternatively, I can use a Python script to compute it accurately. Let me write a simple Python code snippet to calculate the square root of 143423\"\"\"\n",
    "compute_similarity(text1, text3)"
   ]
  },
  {
   "cell_type": "code",
   "execution_count": null,
   "id": "e984fe82",
   "metadata": {},
   "outputs": [],
   "source": "# Test the pipeline's _select_best_intervention function\nfrom pipeline.voice_in_head_strategy import VoiceInHeadStrategy\n\n# Reload to get latest version\nimport importlib\nfrom pipeline import voice_in_head_strategy\nimportlib.reload(voice_in_head_strategy)\nfrom pipeline.voice_in_head_strategy import VoiceInHeadStrategy\n\n# Create strategy instance\nstrategy = VoiceInHeadStrategy()\n\n# Test with text1 as target and text2, text3 as candidates\ntext1 = \"Use a python script to solve this\"\ntext2 = \"\"\"squared is 4,000,000. So, the square root of 1,434,234 must be between 1000 and 2000. Let me narrow it down further. Let's try 1200 squared: 1,440,000. Oh, that's pretty close. So, 1200 squared is 1,440,000, which\"\"\"\ntext3 = \"\"\" squared is 4,000,000. Wait, 1434234 is between those two, so the square root must be between 1000 and 2000. Let me narrow it down more. Maybe I can use a calculator or a more systematic approach. Alternatively, I can use a Python script to compute it accurately. Let me write a simple Python code snippet to calculate the square root of 143423\"\"\"\n\ncandidates = [text2, text3]\nselected = strategy._select_best_intervention(text1, candidates)\n\nprint(\"\\n\" + \"=\"*80)\nprint(\"SELECTED INTERVENTION:\")\nprint(\"=\"*80)\nprint(selected[:200] + \"...\")\n"
  }
 ],
 "metadata": {
  "kernelspec": {
   "display_name": ".venv",
   "language": "python",
   "name": "python3"
  },
  "language_info": {
   "codemirror_mode": {
    "name": "ipython",
    "version": 3
   },
   "file_extension": ".py",
   "mimetype": "text/x-python",
   "name": "python",
   "nbconvert_exporter": "python",
   "pygments_lexer": "ipython3",
   "version": "3.11.11"
  }
 },
 "nbformat": 4,
 "nbformat_minor": 5
}