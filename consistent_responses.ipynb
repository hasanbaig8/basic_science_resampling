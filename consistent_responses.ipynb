{
 "cells": [
  {
   "cell_type": "code",
   "execution_count": 1,
   "id": "3fab1c2c",
   "metadata": {},
   "outputs": [],
   "source": [
    "import json\n",
    "# Load the parsed rollouts data\n",
    "with open('/workspace/basic_science_resampling/data/strategyqa_rollouts_parsed.json', 'r') as f:\n",
    "    rollouts_data = json.load(f)\n",
    "\n",
    "len(rollouts_data)\n",
    "import numpy as np\n",
    "\n",
    "percent_true = np.zeros(len(rollouts_data))\n",
    "steerable_question_ids = []\n",
    "for i in range(len(rollouts_data)):\n",
    "    decisions = np.array([x for x in rollouts_data[i]['decisions'] if x is not None])\n",
    "    percent_true[i] = np.sum(decisions) / len(decisions)\n",
    "    if percent_true[i] > 0.1 and percent_true[i] < 0.9:\n",
    "        steerable_question_ids.append(rollouts_data[i]['question_id'])"
   ]
  },
  {
   "cell_type": "code",
   "execution_count": null,
   "id": "931b4206",
   "metadata": {},
   "outputs": [],
   "source": []
  }
 ],
 "metadata": {
  "kernelspec": {
   "display_name": ".venv",
   "language": "python",
   "name": "python3"
  },
  "language_info": {
   "codemirror_mode": {
    "name": "ipython",
    "version": 3
   },
   "file_extension": ".py",
   "mimetype": "text/x-python",
   "name": "python",
   "nbconvert_exporter": "python",
   "pygments_lexer": "ipython3",
   "version": "3.11.11"
  }
 },
 "nbformat": 4,
 "nbformat_minor": 5
}
